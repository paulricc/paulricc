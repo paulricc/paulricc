{
  "nbformat": 4,
  "nbformat_minor": 0,
  "metadata": {
    "colab": {
      "provenance": []
    },
    "kernelspec": {
      "name": "python3",
      "display_name": "Python 3"
    },
    "language_info": {
      "name": "python"
    }
  },
  "cells": [
    {
      "cell_type": "markdown",
      "source": [
        "# Importing libraries"
      ],
      "metadata": {
        "id": "Siy6CaQHDy04"
      }
    },
    {
      "cell_type": "code",
      "source": [
        "!pip install hmmlearn"
      ],
      "metadata": {
        "id": "3NfwliH8tGJJ"
      },
      "execution_count": null,
      "outputs": []
    },
    {
      "cell_type": "code",
      "source": [
        "!pip install pykalman"
      ],
      "metadata": {
        "id": "SI5qtrcM1_Gz"
      },
      "execution_count": null,
      "outputs": []
    },
    {
      "cell_type": "code",
      "execution_count": null,
      "metadata": {
        "id": "AMhIhTXf529M"
      },
      "outputs": [],
      "source": [
        "import pandas as pd\n",
        "import numpy as np\n",
        "import matplotlib.pyplot as plt\n",
        "from hmmlearn.hmm import GaussianHMM\n",
        "from pykalman import KalmanFilter\n",
        "from scipy.optimize import minimize\n",
        "from geopy.distance import geodesic\n",
        "from scipy.optimize import minimize\n",
        "from sklearn.metrics import mean_absolute_error, mean_squared_error\n",
        "import statsmodels.api as sm"
      ]
    },
    {
      "cell_type": "markdown",
      "source": [
        "# Import and Preprocess data"
      ],
      "metadata": {
        "id": "k_PeRd8itl4X"
      }
    },
    {
      "cell_type": "code",
      "source": [
        "data = pd.read_csv('/content/ts_epa_2020_west_sept_fill.csv')\n",
        "data.info()\n",
        "data.head()"
      ],
      "metadata": {
        "id": "QujAjsPw6K_v"
      },
      "execution_count": null,
      "outputs": []
    },
    {
      "cell_type": "code",
      "source": [
        "station_96 = data[data['station_id'] == 96].copy()\n",
        "station_96['datetime'] = pd.to_datetime(station_96['datetime'])"
      ],
      "metadata": {
        "id": "Fg7rcaUxitcR"
      },
      "execution_count": null,
      "outputs": []
    },
    {
      "cell_type": "markdown",
      "source": [
        "# Descriptive Statistics"
      ],
      "metadata": {
        "id": "PoGW3qMwvxoT"
      }
    },
    {
      "cell_type": "code",
      "source": [
        "descr_stats = station_96[[\"pm25\", 'temp', 'wind']]\n",
        "descr_stats_summary = descr_stats.describe().T\n",
        "descr_stats_summary[\"range\"] = descr_stats_summary['max'] - descr_stats_summary['min']"
      ],
      "metadata": {
        "id": "pmiBo9tfveJN"
      },
      "execution_count": null,
      "outputs": []
    },
    {
      "cell_type": "code",
      "source": [
        "plt.figure(figsize=(12,6))\n",
        "\n",
        "plt.fill_between(\n",
        "    station_96[\"datetime\"],\n",
        "    25,\n",
        "    station_96[\"pm25\"].max(),\n",
        "    color='red',\n",
        "    alpha=0.2,\n",
        "    label = 'Dangerous PM 2.5 levels'\n",
        ")\n",
        "\n",
        "plt.plot(station_96[\"datetime\"], station_96[\"pm25\"], label='PM 2.5 levels')\n",
        "plt.axhline(y=25, color=\"red\", linestyle=\"--\")\n",
        "plt.legend()\n",
        "plt.title('PM 2.5 levels at station 96')\n",
        "plt.xlabel('Time')\n",
        "plt.ylabel('PM 2.5 levels')\n",
        "plt.show()"
      ],
      "metadata": {
        "id": "-0wQjU5lIRmN"
      },
      "execution_count": null,
      "outputs": []
    },
    {
      "cell_type": "code",
      "source": [
        "# Daily observations\n",
        "\n",
        "variables = [\"pm25\", \"temp\", \"wind\"]\n",
        "labels_facet = {\n",
        "  \"pm25\": \"PM 2.5\",\n",
        "  \"temp\": \"Temperature\",\n",
        "  \"wind\": \"Wind\"\n",
        "  }\n",
        "\n",
        "fig, axes = plt.subplots(3, 1, figsize=(12, 9), sharex=True)\n",
        "\n",
        "for ax, var in zip(axes, variables):\n",
        "  ax.plot(station_96[\"datetime\"], station_96[var], label=labels_facet[var])\n",
        "  ax.set_title(labels_facet[var])\n",
        "  ax.set_ylabel(var)\n",
        "  ax.legend()\n",
        "\n",
        "axes[-1].set_xlabel(\"Datetime\")\n",
        "\n",
        "plt.tight_layout()\n",
        "\n",
        "plt.show()"
      ],
      "metadata": {
        "id": "Js1kShVawSum"
      },
      "execution_count": null,
      "outputs": []
    },
    {
      "cell_type": "code",
      "source": [
        "# Observations every 2 days\n",
        "\n",
        "station_96[\"date\"] = station_96[\"datetime\"].dt.date\n",
        "station_96_filtered = station_96[station_96[\"date\"].apply(lambda x: x.toordinal() % 2 == 0)]\n",
        "\n",
        "variables = [\"pm25\", \"temp\", \"wind\"]\n",
        "labels_facet = {\n",
        "  \"pm25\": \"PM 2.5\",\n",
        "  \"temp\": \"Temperature\",\n",
        "  \"wind\": \"Wind\"\n",
        "  }\n",
        "\n",
        "fig, axes = plt.subplots(3, 1, figsize=(12, 9), sharex=True)\n",
        "\n",
        "for ax, var in zip(axes, variables):\n",
        "  ax.plot(station_96_filtered[\"datetime\"], station_96_filtered[var], label=labels_facet[var])\n",
        "  ax.set_title(labels_facet[var])\n",
        "  ax.set_ylabel(var)\n",
        "  ax.legend()\n",
        "\n",
        "axes[-1].set_xlabel(\"Datetime\")\n",
        "\n",
        "plt.tight_layout()\n",
        "\n",
        "plt.show()"
      ],
      "metadata": {
        "id": "eDaCqZD11zB2"
      },
      "execution_count": null,
      "outputs": []
    },
    {
      "cell_type": "markdown",
      "source": [
        "# Hidden Markov Model"
      ],
      "metadata": {
        "id": "9lMy73cp4izd"
      }
    },
    {
      "cell_type": "code",
      "source": [
        "model = GaussianHMM(n_components=3, random_state=29)\n",
        "model.fit(station_96[['pm25']].values)\n",
        "station_96['state'] = model.predict(station_96[['pm25']].values)\n",
        "\n",
        "hmm_state_means = model.means_.flatten()\n",
        "station_96[\"hmm_fitted\"] = hmm_state_means[station_96[\"state\"]]\n",
        "hmm_state_variances = np.sqrt(model.covars_).flatten()\n",
        "transition_matrix = model.transmat_\n",
        "initial_prob = model.startprob_\n",
        "\n",
        "print(\"Transition Matrix:\\n\", transition_matrix)\n",
        "print(\"Initial Probabilities:\\n\", initial_prob)\n",
        "print(\"State Means:\\n\", hmm_state_means)\n",
        "print(\"State Standard Deviations:\\n\", hmm_state_variances)"
      ],
      "metadata": {
        "id": "myF8AVeJ6OnV"
      },
      "execution_count": null,
      "outputs": []
    },
    {
      "cell_type": "markdown",
      "source": [
        "# Random Walk plus noise"
      ],
      "metadata": {
        "id": "dZta5r7G62Jb"
      }
    },
    {
      "cell_type": "code",
      "source": [
        "def log_likelihood(params, data):\n",
        "    \"\"\"\n",
        "    Computes the negative log-likelihood of the observations given the parameters.\n",
        "    \"\"\"\n",
        "    transition_covariance, observation_covariance = params\n",
        "    kf = KalmanFilter(\n",
        "        transition_matrices=[1],\n",
        "        observation_matrices=[1],\n",
        "        initial_state_mean=data[0],\n",
        "        initial_state_covariance=1,\n",
        "        observation_covariance=observation_covariance,\n",
        "        transition_covariance=transition_covariance\n",
        "    )\n",
        "    # Compute the log-likelihood\n",
        "    loglikelihood = kf.loglikelihood(data)\n",
        "    return -loglikelihood\n",
        "\n",
        "\n",
        "observations = station_96[\"pm25\"].values\n",
        "result = minimize(\n",
        "    fun=log_likelihood,\n",
        "    x0=[1, 1],\n",
        "    args=(observations,),\n",
        "    bounds=[(1e-5, None), (1e-5, None)]\n",
        ")\n",
        "\n",
        "\n",
        "optimized_transition_covariance, optimized_observation_covariance = result.x\n",
        "\n",
        "print(\"Estimated Variances:\")\n",
        "print(f\"Transition Variance (Process Noise): {optimized_transition_covariance}\")\n",
        "print(f\"Observation Variance (Observation Noise): {optimized_observation_covariance}\")\n"
      ],
      "metadata": {
        "id": "t5xMb7yqzIEd"
      },
      "execution_count": null,
      "outputs": []
    },
    {
      "cell_type": "code",
      "source": [
        "kf = KalmanFilter(\n",
        "    transition_matrices=[1],\n",
        "    observation_matrices=[1],\n",
        "    initial_state_mean=observations[0],\n",
        "    initial_state_covariance=1,\n",
        "    observation_covariance=optimized_observation_covariance,\n",
        "    transition_covariance=optimized_transition_covariance\n",
        ")\n",
        "\n",
        "filtered_state_means, filtered_state_covariances = kf.filter(observations)\n",
        "observation_means, smoothed_state_covariances = kf.smooth(observations)"
      ],
      "metadata": {
        "id": "3bTbiRHfz0px"
      },
      "execution_count": null,
      "outputs": []
    },
    {
      "cell_type": "code",
      "source": [
        "def calculate_error_metrics(observations, predictions):\n",
        "\n",
        "  mae = mean_absolute_error(observations, predictions)\n",
        "  msfe = mean_squared_error(observations, predictions)\n",
        "  mape = np.mean(np.abs((observations - predictions)/observations)) * 100\n",
        "\n",
        "  return {'MAE': mae, 'MSFE': msfe, 'MAPE': mape}\n",
        "\n",
        "\n",
        "error_metrics = calculate_error_metrics(observations, observation_means)\n",
        "\n",
        "print(\"Error Metrics:\")\n",
        "print(f\"MAE: {error_metrics['MAE']:.4f}\")\n",
        "print(f\"MAPE: {error_metrics['MAPE']:.2f}%\")\n",
        "print(f\"MSFE: {error_metrics['MSFE']:.4f}\")"
      ],
      "metadata": {
        "id": "MhZLFbpZ2Lr2"
      },
      "execution_count": null,
      "outputs": []
    },
    {
      "cell_type": "code",
      "source": [
        "filtered_std_dev = np.sqrt(np.diagonal(filtered_state_covariances))\n",
        "lower_bound = filtered_state_means - 1.96 * filtered_std_dev\n",
        "upper_bound = filtered_state_means + 1.96 * filtered_std_dev"
      ],
      "metadata": {
        "id": "Ery1WIk64eaw"
      },
      "execution_count": null,
      "outputs": []
    },
    {
      "cell_type": "code",
      "source": [
        "plt.figure(figsize=(12, 9))\n",
        "plt.plot(observations, label='Actual Observations', color='black', linewidth=8)\n",
        "plt.plot(filtered_state_means, label='Forecasted Observations', color='blue', linewidth=1)\n",
        "plt.fill_between(\n",
        "    np.arange(len(observations)),\n",
        "    lower_bound.flatten(),\n",
        "    upper_bound.flatten(),\n",
        "    color=\"blue\",\n",
        "    alpha=0.2,\n",
        "    label=\"95% Confidence Interval\",\n",
        ")\n",
        "plt.title(\"Forecasts with 95% Confidence Intervals\")\n",
        "plt.xlabel(\"Time\")\n",
        "plt.ylabel(\"PM2.5\")\n",
        "plt.legend()\n",
        "plt.show()"
      ],
      "metadata": {
        "id": "UkLRvadp4r6i"
      },
      "execution_count": null,
      "outputs": []
    },
    {
      "cell_type": "markdown",
      "source": [
        "# Dynamic Linear Model with regressive component"
      ],
      "metadata": {
        "id": "h0B-n5JN19Oq"
      }
    },
    {
      "cell_type": "code",
      "source": [
        "observations = station_96[\"pm25\"].values\n",
        "regressor = station_96[\"wind\"].values.reshape(-1, 1)\n",
        "\n",
        "model = sm.tsa.SARIMAX(endog=observations, exog=regressor, order=(0, 0, 0), trend='n')\n",
        "result = model.fit()\n",
        "\n",
        "print(result.summary())\n"
      ],
      "metadata": {
        "collapsed": true,
        "id": "c5VimXVYeNva"
      },
      "execution_count": null,
      "outputs": []
    },
    {
      "cell_type": "code",
      "source": [
        "predicted = result.fittedvalues\n",
        "\n",
        "mae = mean_absolute_error(observations, predicted)\n",
        "mse = mean_squared_error(observations, predicted)\n",
        "mape = np.mean(np.abs((observations - predicted) / observations)) * 100\n",
        "\n",
        "print(f\"MAE: {mae:.4f}\")\n",
        "print(f\"MSE: {mse:.4f}\")\n",
        "print(f\"MAPE: {mape:.2f}%\")\n"
      ],
      "metadata": {
        "id": "VBx6sRJjfaNW"
      },
      "execution_count": null,
      "outputs": []
    },
    {
      "cell_type": "markdown",
      "source": [
        "# Multivariate model"
      ],
      "metadata": {
        "id": "Yq6epHKODmnG"
      }
    },
    {
      "cell_type": "code",
      "source": [
        "station_96['intercept'] = 1\n",
        "out_var = station_96['pm25'].values\n",
        "regressors = station_96[['intercept', 'wind', 'temp']].values\n",
        "\n",
        "model = sm.tsa.SARIMAX(\n",
        "    endog = out_var,\n",
        "    exog = regressors,\n",
        "    order = (0,0,0),\n",
        "    trend='n',\n",
        "    time_varying_regression = True,\n",
        "    mle_regression = False\n",
        ")\n",
        "\n",
        "result = model.fit()\n",
        "\n",
        "print(result.summary())"
      ],
      "metadata": {
        "id": "xDjGXtYW5vej"
      },
      "execution_count": null,
      "outputs": []
    },
    {
      "cell_type": "code",
      "source": [
        "dynamic_coefficients = result.smoothed_state.T\n",
        "\n",
        "plt.figure(figsize=(12, 6))\n",
        "plt.plot(station_96['datetime'], dynamic_coefficients[:, 0], label = 'Intercept', color = 'red')\n",
        "plt.plot(station_96['datetime'], dynamic_coefficients[:, 1], label = 'Wind coefficients', color = 'blue')\n",
        "plt.plot(station_96['datetime'], dynamic_coefficients[:, 2], label = 'Temperature coefficients', color = 'green')\n",
        "plt.title('Dynamic coefficients over time')\n",
        "plt.xlabel('Time')\n",
        "plt.ylabel('Coefficients')\n",
        "plt.legend()\n",
        "plt.show()"
      ],
      "metadata": {
        "id": "Bxx3DDNJ9t1_"
      },
      "execution_count": null,
      "outputs": []
    }
  ]
}